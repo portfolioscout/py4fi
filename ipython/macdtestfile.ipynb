{
 "cells": [
  {
   "cell_type": "code",
   "execution_count": 1,
   "metadata": {
    "collapsed": false
   },
   "outputs": [],
   "source": [
    "import warnings\n",
    "warnings.simplefilter('ignore')\n",
    "\n",
    "import numpy as np\n",
    "import pandas as pd\n",
    "\n",
    "\n",
    "import macd\n",
    "import pandas.io.data as web\n",
    "import matplotlib.pyplot as plt\n",
    "%matplotlib inline"
   ]
  },
  {
   "cell_type": "code",
   "execution_count": 2,
   "metadata": {
    "collapsed": false
   },
   "outputs": [],
   "source": [
    "filename='/home/ruslan/data/snp500.h5'\n",
    "h5 = pd.HDFStore(filename, 'r')\n"
   ]
  },
  {
   "cell_type": "code",
   "execution_count": 26,
   "metadata": {
    "collapsed": false
   },
   "outputs": [
    {
     "name": "stdout",
     "output_type": "stream",
     "text": [
      "[DatetimeIndex(['1970-01-02', '1970-01-05', '1970-01-06', '1970-01-07',\n",
      "               '1970-01-08', '1970-01-09', '1970-01-12', '1970-01-13',\n",
      "               '1970-01-14', '1970-01-15',\n",
      "               ...\n",
      "               '2015-11-30', '2015-12-01', '2015-12-02', '2015-12-03',\n",
      "               '2015-12-04', '2015-12-07', '2015-12-08', '2015-12-09',\n",
      "               '2015-12-10', '2015-12-11'],\n",
      "              dtype='datetime64[ns]', name=u'Date', length=11594, freq=None)]\n"
     ]
    }
   ],
   "source": [
    "sym='WMB'\n",
    "\n",
    "dt0=macd.getClose(h5,sym)\n",
    "print dt0.axes\n",
    "#dt = macd.macd(dt0)\n",
    "#macd.plotMacd(dt)\n",
    "#dcs=macd.doCumsum(dt)\n",
    "#dcs['delta'].plot(figsize=(42, 10), grid=True)\n",
    "#dcs.tail()"
   ]
  },
  {
   "cell_type": "code",
   "execution_count": null,
   "metadata": {
    "collapsed": true
   },
   "outputs": [],
   "source": []
  }
 ],
 "metadata": {
  "kernelspec": {
   "display_name": "Python 2",
   "language": "python",
   "name": "python2"
  },
  "language_info": {
   "codemirror_mode": {
    "name": "ipython",
    "version": 2
   },
   "file_extension": ".py",
   "mimetype": "text/x-python",
   "name": "python",
   "nbconvert_exporter": "python",
   "pygments_lexer": "ipython2",
   "version": "2.7.11"
  }
 },
 "nbformat": 4,
 "nbformat_minor": 0
}
